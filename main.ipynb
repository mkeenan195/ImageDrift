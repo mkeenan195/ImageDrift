{
 "cells": [
  {
   "cell_type": "code",
   "execution_count": null,
   "id": "8d071674",
   "metadata": {},
   "outputs": [],
   "source": [
    "import torch\n",
    "import os\n",
    "from IPython.display import Image, clear_output  # to display images\n",
    "\n",
    "print(f\"Setup complete. Using torch {torch.__version__} ({torch.cuda.get_device_properties(0).name if torch.cuda.is_available() else 'CPU'})\")"
   ]
  },
  {
   "cell_type": "code",
   "execution_count": null,
   "id": "11dca0a6",
   "metadata": {},
   "outputs": [],
   "source": [
    "# Training on Jan/Feb month pictures and Test on March/April/Aug dataset.\n",
    "\n",
    "!python yolov5s/train.py --img 288 --batch 128 --epochs 250 \\\n",
    "--data detect-drift-March-un.yaml --weights yolov5s.pt --cache"
   ]
  },
  {
   "cell_type": "code",
   "execution_count": null,
   "id": "0af9fd90",
   "metadata": {},
   "outputs": [],
   "source": [
    "!python yolov5s/val.py \\\n",
    "--weights yolov5s/runs/train/detect-drift-March-un-train/weights/best.pt \\\n",
    "--data yolov5s/data/detect-drift-March-un.yaml \\\n",
    "--img 288"
   ]
  },
  {
   "cell_type": "code",
   "execution_count": null,
   "id": "da7fac3e",
   "metadata": {},
   "outputs": [],
   "source": [
    "# Training on Jan/Feb/Mar month pictures and Test on Mar/April/Aug dataset.\n",
    "\n",
    "!python yolov5s/train.py --img 288 --batch 128 --epochs 250 \\\n",
    "--data detect-drift-Apr-un.yaml --weights yolov5s.pt --cache"
   ]
  },
  {
   "cell_type": "code",
   "execution_count": null,
   "id": "2d878872",
   "metadata": {},
   "outputs": [],
   "source": [
    "!python yolov5s/val.py \\\n",
    "--weights yolov5s/runs/train/detect-drift-Apr-un-train/weights/best.pt \\\n",
    "--data yolov5s/data/detect-drift-Apr-un.yaml \\\n",
    "--img 288"
   ]
  },
  {
   "cell_type": "code",
   "execution_count": null,
   "id": "0d2b0107",
   "metadata": {},
   "outputs": [],
   "source": [
    "# Training on Jan/Feb month stylized pictures and Test on Mar dataset.\n",
    "\n",
    "!python yolov5s/train.py --img 288 --batch 128 --epochs 250 \\\n",
    "--data driftMarch.yaml --weights yolov5s.pt --cache"
   ]
  },
  {
   "cell_type": "code",
   "execution_count": null,
   "id": "0c91589b",
   "metadata": {},
   "outputs": [],
   "source": [
    "!python yolov5s/val.py \\\n",
    "--weights yolov5s/runs/train/mar-highstyle/weights/best.pt \\\n",
    "--data yolov5s/data/driftMarch.yaml \\\n",
    "--img 288"
   ]
  },
  {
   "cell_type": "code",
   "execution_count": null,
   "id": "d0589481",
   "metadata": {},
   "outputs": [],
   "source": [
    "# Training on Jan/Feb/Mar month stylized pictures and Test on April dataset.\n",
    "\n",
    "!python yolov5s/train.py --img 288 --batch 128 --epochs 250 \\\n",
    "--data driftApril.yaml --weights yolov5s.pt --cache"
   ]
  },
  {
   "cell_type": "code",
   "execution_count": null,
   "id": "e6265559",
   "metadata": {},
   "outputs": [],
   "source": [
    "!python yolov5s/val.py \\\n",
    "--weights yolov5s/runs/train/apr-highstyle/weights/best.pt \\\n",
    "--data yolov5s/data/driftApril.yaml \\\n",
    "--img 288"
   ]
  },
  {
   "cell_type": "code",
   "execution_count": null,
   "id": "366abb8b",
   "metadata": {},
   "outputs": [],
   "source": [
    "# Training on Jan/Feb/Mar/Apr/May month high stylized pictures and Test on August dataset.\n",
    "\n",
    "!python yolov5s/train.py --img 288 --batch 128 --epochs 250 \\\n",
    "--data driftAugust.yaml --weights yolov5s.pt --cache"
   ]
  },
  {
   "cell_type": "code",
   "execution_count": null,
   "id": "ab3f39c9",
   "metadata": {},
   "outputs": [],
   "source": [
    "!python yolov5s/val.py \\\n",
    "--weights yolov5s/runs/train/aug-highstyle/weights/best.pt \\\n",
    "--data yolov5s/data/driftAugust.yaml \\\n",
    "--img 288"
   ]
  },
  {
   "cell_type": "code",
   "execution_count": null,
   "id": "977911c9",
   "metadata": {},
   "outputs": [],
   "source": [
    "# Training on Jan/Feb/Mar/Apr/May month lowstyled images\n",
    "!python yolov5s/train.py --img 288 --batch 128 --epochs 250 \\\n",
    "--data driftAugust.yaml --weights yolov5s.pt --cache"
   ]
  },
  {
   "cell_type": "code",
   "execution_count": null,
   "id": "c6e59afd",
   "metadata": {},
   "outputs": [],
   "source": [
    "!python yolov5s/val.py \\\n",
    "--weights yolov5s/runs/train/aug-lowstyle/weights/best.pt \\\n",
    "--data yolov5s/data/driftAugust.yaml \\\n",
    "--img 288"
   ]
  },
  {
   "cell_type": "code",
   "execution_count": null,
   "id": "32c737f8",
   "metadata": {},
   "outputs": [],
   "source": [
    "# Training on Jan/Feb/Mar month lowstyled images\n",
    "!python yolov5s/train.py --img 288 --batch 128 --epochs 250 \\\n",
    "--data driftApril.yaml --weights yolov5s.pt --cache"
   ]
  },
  {
   "cell_type": "code",
   "execution_count": null,
   "id": "a20c9871",
   "metadata": {},
   "outputs": [],
   "source": [
    "!python yolov5s/val.py \\\n",
    "--weights yolov5s/runs/train/apr-lowstyle/weights/best.pt \\\n",
    "--data yolov5s/data/driftApril.yaml \\\n",
    "--img 288"
   ]
  },
  {
   "cell_type": "code",
   "execution_count": null,
   "id": "b6abe4fc",
   "metadata": {},
   "outputs": [],
   "source": [
    "# Training on Jan/Feb month lowstyled images\n",
    "\n",
    "!python yolov5s/train.py --img 288 --batch 128 --epochs 250 \\\n",
    "--data driftMarch.yaml --weights yolov5s.pt --cache"
   ]
  },
  {
   "cell_type": "code",
   "execution_count": null,
   "id": "b64d032d",
   "metadata": {},
   "outputs": [],
   "source": [
    "!python yolov5s/val.py \\\n",
    "--weights yolov5s/runs/train/mar-lowstyle/weights/best.pt \\\n",
    "--data yolov5s/data/drift-August-summer-images.yaml \\\n",
    "--img 288"
   ]
  },
  {
   "cell_type": "code",
   "execution_count": null,
   "id": "9064b5a0",
   "metadata": {},
   "outputs": [],
   "source": [
    "# Training on Aug month images and test on Jan images\n",
    "\n",
    "!python yolov5s/train.py --img 288 --batch 128 --epochs 250 \\\n",
    "--data drift-August-summer-images.yaml --weights yolov5s.pt --cache"
   ]
  },
  {
   "cell_type": "code",
   "execution_count": null,
   "id": "bf71b75b",
   "metadata": {},
   "outputs": [],
   "source": [
    "!python yolov5s/val.py \\\n",
    "--weights yolov5s/runs/train/August-summer-images/weights/best.pt \\\n",
    "--data yolov5s/data/drift-August-summer-images.yaml \\\n",
    "--img 288"
   ]
  },
  {
   "cell_type": "code",
   "execution_count": null,
   "id": "7a019d9a",
   "metadata": {},
   "outputs": [],
   "source": [
    "# Training on Aug month images and test on Jan images\n",
    "\n",
    "!python yolov5/train.py --img 288 --batch 128 --epochs 250 \\\n",
    "--data drift-August-summer-images-un.yaml --weights yolov5s.pt --cache"
   ]
  },
  {
   "cell_type": "code",
   "execution_count": null,
   "id": "d7a01d14",
   "metadata": {},
   "outputs": [],
   "source": [
    "!python yolov5s/val.py \\\n",
    "--weights yolov5s/runs/train/August-summer-images-un/weights/best.pt \\\n",
    "--data yolov5s/data/drift-August-summer-images-un.yaml \\\n",
    "--img 288"
   ]
  },
  {
   "cell_type": "code",
   "execution_count": null,
   "id": "5100dee9",
   "metadata": {},
   "outputs": [],
   "source": [
    "!python yolov5s/detect.py --weights \\\n",
    "yolov5s/runs/train/April/weights/best.pt \\\n",
    "--conf-thres 0.5 --line-thickness 2 --hide-conf --source test-vid-2.mp4"
   ]
  }
 ],
 "metadata": {
  "kernelspec": {
   "display_name": "Python 3 (ipykernel)",
   "language": "python",
   "name": "python3"
  },
  "language_info": {
   "codemirror_mode": {
    "name": "ipython",
    "version": 3
   },
   "file_extension": ".py",
   "mimetype": "text/x-python",
   "name": "python",
   "nbconvert_exporter": "python",
   "pygments_lexer": "ipython3",
   "version": "3.10.6"
  }
 },
 "nbformat": 4,
 "nbformat_minor": 5
}
